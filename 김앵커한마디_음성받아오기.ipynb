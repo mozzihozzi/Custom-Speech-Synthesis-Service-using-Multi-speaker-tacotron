{
 "cells": [
  {
   "cell_type": "code",
   "execution_count": 17,
   "metadata": {},
   "outputs": [],
   "source": [
    "import re\n",
    "import os\n",
    "import sys\n",
    "import m3u8\n",
    "import json\n",
    "import requests\n",
    "import subprocess\n",
    "from functools import partial\n",
    "from bs4 import BeautifulSoup\n",
    "from nltk import sent_tokenize \n",
    "import ast\n",
    "from utils import get_encoder_name, parallel_run, makedirs"
   ]
  },
  {
   "cell_type": "code",
   "execution_count": 18,
   "metadata": {},
   "outputs": [],
   "source": [
    "kim_movie_info_list = []\n",
    "\n",
    "with open('./datasets/kim_anchor/kim_anchor_data_info.json', 'r') as myfile:\n",
    "    data = myfile.read()\n",
    "    kim_movie_info_list = ast.literal_eval(data)"
   ]
  },
  {
   "cell_type": "code",
   "execution_count": 19,
   "metadata": {},
   "outputs": [
    {
     "data": {
      "text/plain": [
       "{'CONTENT': '오늘(3일)의 한마디는 괜찮은 항공사는 없습니까입니다.아시아나 항공 기내식 대란이 사흘째 이어지고 있습니다. 기내식을 싣지 못한 국제선 여객기 지연은 다반사. 그냥 출발하는 항공기들도 속출합니다. 승무원들은 거센 항의를 받으며 자신들은 굶고 라면을 끓여 승객들에게 내놓고, 수백명 목숨을 책임진 기장도 라면과 음료수 하나로 버틴다고 합니다. 이 와중에 기내식 관련 하청업체 대표는 자살했습니다.아시아나는 지난 15년간 기내식을 공급하던 LSG에게 올해 초 6개월 뒤 계약을 종료하겠다고 밝혔습니다. 금호홀딩스 투자를 둘러싼 갈등이 있었다고 합니다. 하지만 새로 선정한 업체에서 석 달 전 불이 나자 아시아나는 하청 업체 하나를 선정하고 대책을 마무리 했습니다. 하루 생산능력 3000명 분인 업체가 2만 5000명분 이상의 기내식을 공급하려다 보니 바로 사고가 터진 것입니다.대한항공 오너 일가의 갑질도 개탄스러운데 아시아나까지 이러니 참 실망스럽습니다. 도대체 대한민국에서 신뢰할 만한 항공사 하나를 찾기가 왜 이리 힘든 것입니까. 이게 다 독과점의 폐해 아닙니까. 뉴스현장  은 여기까지입니다. 저희는 내일 다시 찾아뵙겠습니다.',\n",
       " 'SD_URL': 'http://jtbcvod.fvod.skcdn.com/newsvod/694404E4DE8EC7CB67F11A3108BFDD615EAB00176C1E9061534E5CB22FC65CBE45E9B49C57254C3A12BA8FFDC647CBFBC94AC6A51F864AA7F25918759417C651/playlist.m3u8',\n",
       " 'NEWS_URL': 'http://news.jtbc.joins.com/article/article.aspx?news_id=NB11659024',\n",
       " 'MOVIE_ID': 'NV10214115'}"
      ]
     },
     "execution_count": 19,
     "metadata": {},
     "output_type": "execute_result"
    }
   ],
   "source": [
    "kim_movie_info_list[0]"
   ]
  },
  {
   "cell_type": "code",
   "execution_count": 20,
   "metadata": {},
   "outputs": [
    {
     "data": {
      "text/plain": [
       "1296"
      ]
     },
     "execution_count": 20,
     "metadata": {},
     "output_type": "execute_result"
    }
   ],
   "source": [
    "len(kim_movie_info_list)"
   ]
  },
  {
   "cell_type": "code",
   "execution_count": 25,
   "metadata": {},
   "outputs": [
    {
     "name": "stdout",
     "output_type": "stream",
     "text": [
      "ffmpeg\n",
      "./test_encoder -y -loglevel panic -i ./test_video -ab 160k -ac 2 -ar 44100 -vn ./test_audio\n"
     ]
    }
   ],
   "source": [
    "if not os.path.exists('audio_path'):\n",
    "    encoder = get_encoder_name()\n",
    "    print(encoder)\n",
    "    command = \"{} -y -loglevel panic -i {} -ab 160k -ac 2 -ar 44100 -vn {}\".\\\n",
    "            format('./test_encoder', './test_video', './test_audio')\n",
    "    print (command)\n",
    "    subprocess.call(command, shell=True)"
   ]
  },
  {
   "cell_type": "code",
   "execution_count": null,
   "metadata": {},
   "outputs": [],
   "source": []
  },
  {
   "cell_type": "code",
   "execution_count": null,
   "metadata": {},
   "outputs": [],
   "source": []
  },
  {
   "cell_type": "code",
   "execution_count": null,
   "metadata": {},
   "outputs": [],
   "source": []
  }
 ],
 "metadata": {
  "kernelspec": {
   "display_name": "Python 3",
   "language": "python",
   "name": "python3"
  }
 },
 "nbformat": 4,
 "nbformat_minor": 2
}
